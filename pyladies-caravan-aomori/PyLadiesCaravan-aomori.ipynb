{
 "cells": [
  {
   "cell_type": "markdown",
   "metadata": {},
   "source": [
    "# Open CVで顔判定してみよう \n",
    "## ~ PyLadies Caravan in Aomori ~"
   ]
  },
  {
   "cell_type": "markdown",
   "metadata": {},
   "source": [
    "## この章でやること\n",
    "* Open CV とは\n",
    "* 画像編集入門\n",
    "    * ファイルの読み書き\n",
    "    * カラースケールの変化\n",
    "    * 画像のリサイズ\n",
    "* プリセットを利用した顔検知\n",
    "* 画像の位置指定合成\n",
    "    \n",
    "上記の技術を利用して、下記処理を実装します。    \n",
    "1. 写真の中から顔を検出する\n",
    "2. 検出した顔にてんむすを上書きする\n",
    "\n",
    "## この章でやらないこと\n",
    "1.   機械学習系機能の説明\n",
    "2.   NumpyなどのOpenCV以外のライブラリの説明(できる前提で進めます)"
   ]
  },
  {
   "cell_type": "markdown",
   "metadata": {},
   "source": [
    "# 1. ファイルの読み書き\n",
    "OpenCVで画像処理を行うためには、まず普段皆さんが見ている画像ファイルをOpenCVが処理できる形に処理してあげるところから始まります。    \n",
    "    \n",
    "ファイルを読み込むimread, ファイルを書きだすimwriteはJupyter上でも.pyファイル上でも同じ書き方をしますが、\n",
    "現在処理しているファイルの確認を行う場合は2通りの書き方があります。    \n",
    "    \n",
    "**まずは今回使用する画像をJupyter外から確認しましょう**    \n",
    "確認できましたか？では先へ進みます"
   ]
  },
  {
   "cell_type": "code",
   "execution_count": null,
   "metadata": {},
   "outputs": [],
   "source": [
    "import cv2"
   ]
  },
  {
   "cell_type": "code",
   "execution_count": null,
   "metadata": {},
   "outputs": [],
   "source": [
    "# 画像情報の取得\n",
    "target = "
   ]
  },
  {
   "cell_type": "code",
   "execution_count": null,
   "metadata": {},
   "outputs": [],
   "source": [
    "# 画像情報の書き出し\n"
   ]
  },
  {
   "cell_type": "markdown",
   "metadata": {},
   "source": [
    "ひとつ前のカラムが正常に動いたら、このJupyter Notebookと同じディレクトリに画像ファイルができていることを確認してください。    \n",
    "    \n",
    "これからいろいろな画像加工を行いますが、都度ファイルに書き出して確認しながら作業するのはちょっと面倒ですよね。    \n",
    "そこで途中確認用の処理をご紹介します。"
   ]
  },
  {
   "cell_type": "code",
   "execution_count": null,
   "metadata": {},
   "outputs": [],
   "source": [
    "# 加工画像の確認(.pyファイルの場合)\n",
    "\n",
    "# 表示確認の設定\n",
    "# cv2.imshow(【ウィンドウ名】, 表示させるファイル)\n",
    "# 確認後の挙動指定(なにかしらのキーが押下されたら次の処理を動かす)\n",
    "# cv2.waitKey(0)\n",
    "# 今開いている確認ウィンドウをすべて閉じる\n",
    "# cv2.destroyAllWindows()"
   ]
  },
  {
   "cell_type": "code",
   "execution_count": null,
   "metadata": {},
   "outputs": [],
   "source": [
    "# 加工画像の確認(Jupyterの場合)\n",
    "import matplotlib.pyplot as plt\n",
    "\n",
    "# インライン表示\n",
    "%matplotlib inline"
   ]
  },
  {
   "cell_type": "code",
   "execution_count": null,
   "metadata": {},
   "outputs": [],
   "source": [
    "# 画像をアウトプットしてみよう"
   ]
  },
  {
   "cell_type": "markdown",
   "metadata": {},
   "source": [
    "どうでしょうか。先ほどJupyterの外から見た画像と色の出方が異なりますね。    \n",
    "これはOpenCVの標準的な色情報の持ち方とmatplotlibの持っている標準的な色情報の持ち方の違いが原因で引きおこる事象です    \n",
    "    \n",
    "通常matplotlibでは **R(赤), G(緑), B(青)** の順番で情報を保持していますが、    \n",
    "OpenCVでは **B(青), G(緑), 赤(R)** の順番でデータを保持しています。    \n",
    "    \n",
    "どちらもただの3つの数列であるため、なにも加工しなくても画像情報を読むことができますが、認識する数値と色の組み合わせが異なるため、このような表示のズレが発生します。    \n",
    "具体的には、赤色と青色が反転して表示されてしまいます。    \n",
    "    \n",
    "この表示色の変更については次の章で説明します。"
   ]
  },
  {
   "cell_type": "markdown",
   "metadata": {},
   "source": [
    "# 2. 色モデル変換\n",
    "この章では画像の簡単色加工を学びます。OpenCVには様々な色相パターンが事前に容易されており、ちょっと書くだけで様々なプリセット色相変換を楽しめます。    \n",
    "もちろんご自身で色モデルを作成しを指定・変換することも可能ですが、少々コードが長くなってしまうことや別途数値計算や各色味の調整に時間がかかってしまうため、今回のハンズオンでは作業しません。   \n",
    "\n",
    "うまく色相変換を利用して、おしゃれ画像加工に挑むことも可能ですよ！\n",
    "    \n",
    "今回は先ほど正しく表示されなかった画像を正しい色味で表示されるように調整を行いましょう。"
   ]
  },
  {
   "cell_type": "markdown",
   "metadata": {},
   "source": [
    "## cvtColor\n",
    "**cvtColor : 色モデル間変換を行う。変換する色モデルは定数として事前に容易されている。**    \n",
    "cvtColor(【読み込む画像】, 【色相環定数】)    \n",
    "    \n",
    "使える色モデル定数例    \n",
    "\n",
    "* COLOR_BGR2GRAY: BGR->グレースケール\n",
    "* COLOR_BGR2RGB: BGR->RGB ([RGB色相環](https://ja.wikipedia.org/wiki/RGB))\n",
    "* COLOR_BGR2HLS: BGR->HLS ([HLS色空間](https://ja.wikipedia.org/wiki/HLS%E8%89%B2%E7%A9%BA%E9%96%93))\n",
    "* COLOR_BGR2HSV: BGR->HSV ([HSV色空間](https://ja.wikipedia.org/wiki/HSV%E8%89%B2%E7%A9%BA%E9%96%93))\n",
    "* COLOR_BGR2YCrCb: BGR->YCrCb ([YUV色空間](https://ja.wikipedia.org/wiki/YUV))\n",
    "* COLOR_BGR2XYZ: BGR->XYZ ([CIE1931色空間](https://ja.wikipedia.org/wiki/CIE_1931_%E8%89%B2%E7%A9%BA%E9%96%93))\n",
    "\n",
    "ここではすべてBGR色モデルからの変換定数ばかりあげているが、もちろんHLSから、HSVからなどさまざまな変換定数が用意されている。"
   ]
  },
  {
   "cell_type": "code",
   "execution_count": null,
   "metadata": {},
   "outputs": [],
   "source": [
    "# RGB形式での画像表示\n",
    "rgb = \n",
    "\n",
    "plt.imshow(rgb)"
   ]
  },
  {
   "cell_type": "markdown",
   "metadata": {},
   "source": [
    "ただしい色合いで表示されましたね。    \n",
    "他の色モデルでの表示もやってみましょう。"
   ]
  },
  {
   "cell_type": "code",
   "execution_count": null,
   "metadata": {},
   "outputs": [],
   "source": [
    "# グレースケール\n",
    "gray = \n",
    "plt.imshow(gray)"
   ]
  },
  {
   "cell_type": "markdown",
   "metadata": {},
   "source": [
    "グレースケール設定をしたのにグレーで表示されませんね？\n",
    "\n",
    "これも先ほどお話していたものと同じ原理で、BGRで色味情報を持っているか、RGBで色味情報を持っているかによる色置換の失敗です。\n",
    "\n",
    "色味変換(色相変換)を行った際はBGRの順でデータを保持しています。このデータ保持のままで色がグレーに見えるように各値を保持していましたが、RGBで表示させようとしたため、結果緑フォーカスされた画像となってしまいました。\n",
    "\n",
    "正しく表示させたい場合は同様にBGR2RGBで色相変換させて表示します。"
   ]
  },
  {
   "cell_type": "code",
   "execution_count": null,
   "metadata": {},
   "outputs": [],
   "source": [
    "#正しい色味で表示しよう\n"
   ]
  },
  {
   "cell_type": "markdown",
   "metadata": {},
   "source": [
    "# 3. 画像サイズの変更\n",
    "画像が大きすぎると処理に困ったりしますよね。画像のサイズを変えて色々使いまわしたいタイミングはたくさんあると思います。\n",
    "\n",
    "OpenCVでは画像のサイズを変更する場合は下記のように記載します。"
   ]
  },
  {
   "cell_type": "markdown",
   "metadata": {},
   "source": [
    "## resize\n",
    "**resize : 画像サイズの変更を行う**    \n",
    "resize(【読み込む画像】, 【希望の大きさ(width, height)】) \n",
    "\n",
    "※他にも倍率で縮小・拡大ができる呼び出し方もあります。\n",
    "※圧縮・拡大時の画像の歪み補完やデータの不足を補うオプションもあります。"
   ]
  },
  {
   "cell_type": "code",
   "execution_count": null,
   "metadata": {},
   "outputs": [],
   "source": [
    "# 画像サイズを小さくしてみよう\n",
    "small = \n",
    "\n",
    "plt.imshow(small)"
   ]
  },
  {
   "cell_type": "markdown",
   "metadata": {},
   "source": [
    "# 4. 顔判定と顔の差し替え\n",
    "なんとなく画像編集の基礎がわかったところで、画像の分析をプラスして遊んでみましょう。"
   ]
  },
  {
   "cell_type": "code",
   "execution_count": null,
   "metadata": {},
   "outputs": [],
   "source": [
    "# 今回使う画像の読み込み\n",
    "target = "
   ]
  },
  {
   "cell_type": "code",
   "execution_count": null,
   "metadata": {},
   "outputs": [],
   "source": [
    "# 画像のグレースケール化\n",
    "# グレースケール化することで画像内の情報量を落とし、顔判別に処理を集中させます(ノイズ軽減)\n",
    "target_gray = \n",
    "\n",
    "plt.imshow(cv2.cvtColor(target_gray, cv2.COLOR_BGR2RGB))"
   ]
  },
  {
   "cell_type": "markdown",
   "metadata": {},
   "source": [
    "顔を判別させるためには顔の学習データが必要です。    \n",
    "この学習データはGithub上で公開されていますので、利用したいものを取得しましょう。    \n",
    "[https://github.com/opencv/opencv/tree/master/data](https://github.com/opencv/opencv/tree/master/data)    \n",
    "    \n",
    "今回はこのディレクトリにデータを持ってきてありますので、それを利用します。   "
   ]
  },
  {
   "cell_type": "code",
   "execution_count": null,
   "metadata": {},
   "outputs": [],
   "source": [
    "# 顔検出モデル読み込み\n",
    "cascade_model = "
   ]
  },
  {
   "cell_type": "code",
   "execution_count": null,
   "metadata": {},
   "outputs": [],
   "source": [
    "# 顔検出\n",
    "rectangles = "
   ]
  },
  {
   "cell_type": "markdown",
   "metadata": {},
   "source": [
    "顔検出で取得したデータは下記の情報を含んでいます。\n",
    "1. 顔検知範囲の左上角の座標\n",
    "2. 顔の縦横の大きさ\n",
    "    \n",
    "![情報イメージ](../showcase2/display/example.jpg)"
   ]
  },
  {
   "cell_type": "code",
   "execution_count": null,
   "metadata": {},
   "outputs": [],
   "source": [
    "# 置き換える顔画像の読み込み\n",
    "new_face = \n",
    "\n",
    "plt.imshow(cv2.cvtColor(new_face, cv2.COLOR_BGR2RGB))"
   ]
  },
  {
   "cell_type": "code",
   "execution_count": null,
   "metadata": {},
   "outputs": [],
   "source": [
    "# さあみんな！新しい顔よ～！\n",
    "\n"
   ]
  },
  {
   "cell_type": "code",
   "execution_count": null,
   "metadata": {},
   "outputs": [],
   "source": [
    "plt.imshow(cv2.cvtColor(target, cv2.COLOR_BGR2RGB))"
   ]
  },
  {
   "cell_type": "code",
   "execution_count": null,
   "metadata": {},
   "outputs": [],
   "source": []
  }
 ],
 "metadata": {
  "kernelspec": {
   "display_name": "Python 3",
   "language": "python",
   "name": "python3"
  },
  "language_info": {
   "codemirror_mode": {
    "name": "ipython",
    "version": 3
   },
   "file_extension": ".py",
   "mimetype": "text/x-python",
   "name": "python",
   "nbconvert_exporter": "python",
   "pygments_lexer": "ipython3",
   "version": "3.11.9"
  }
 },
 "nbformat": 4,
 "nbformat_minor": 2
}
