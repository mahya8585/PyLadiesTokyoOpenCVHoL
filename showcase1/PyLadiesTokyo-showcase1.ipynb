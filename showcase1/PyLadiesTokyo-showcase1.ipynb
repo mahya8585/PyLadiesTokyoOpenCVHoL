{
 "cells": [
  {
   "cell_type": "code",
   "execution_count": null,
   "metadata": {},
   "outputs": [],
   "source": [
    "pip install opencv-python"
   ]
  },
  {
   "cell_type": "markdown",
   "metadata": {},
   "source": [
    "# OpenCV showcase1 ～雑インスタもどきしよう～"
   ]
  },
  {
   "cell_type": "markdown",
   "metadata": {},
   "source": [
    "## この章でやること\n",
    "OpenCV の画像編集機能を写経する\n",
    "\n",
    "## この章でやらないこと\n",
    "1.   機械学習系機能\n",
    "2.   NumpyなどのOpenCV以外のライブラリの説明(できる前提で進めます)"
   ]
  },
  {
   "cell_type": "markdown",
   "metadata": {},
   "source": [
    "# Agenda\n",
    "## showcase1 : 雑インスタしよう\n",
    "### 1.ファイルの読み書き\n",
    "* 読み(imread)\n",
    "* 書き(imwrite)\n",
    "* 確認(imshow)\n",
    "### 2.色変換 \n",
    "* 色モデルの利用(cvtColor)\n",
    "* OpenCV内蔵カラーマップの利用(applyColorMap)\n",
    "### 3. その他画像処理\n",
    "* 二値化(threshold)\n",
    "* エッジ抽出(Canny)\n",
    "* bit変換(bitwise_not/bitwise_and)\n",
    "* アルファブレンド(addWeighted)\n"
   ]
  },
  {
   "cell_type": "markdown",
   "metadata": {},
   "source": [
    "# 1. ファイルの読み書き\n",
    "OpenCVで画像処理を行うためには、まず普段皆さんが見ている画像ファイルをOpenCVが処理できる形に処理してあげるところから始まります。    \n",
    "    \n",
    "ファイルを読み込むimread, ファイルを書きだすimwriteはJupyter上でも.pyファイル上でも同じ書き方をしますが、\n",
    "現在処理しているファイルの確認を行う場合は2通りの書き方があります。    \n",
    "    \n",
    "**まずは今回使用する画像をJupyter外から確認しましょう**    \n",
    "確認できましたか？では先へ進みます"
   ]
  },
  {
   "cell_type": "code",
   "execution_count": null,
   "metadata": {},
   "outputs": [],
   "source": [
    "import cv2\n",
    "import os\n",
    "from pathlib import Path"
   ]
  },
  {
   "cell_type": "code",
   "execution_count": null,
   "metadata": {},
   "outputs": [],
   "source": [
    "# 今回使うサンプル画像\n",
    "target_path = os.path.join(Path().resolve(), 'images', 'queen.jpg')"
   ]
  },
  {
   "cell_type": "code",
   "execution_count": null,
   "metadata": {},
   "outputs": [],
   "source": [
    "# [HoL] 画像情報の取得\n",
    "# target = "
   ]
  },
  {
   "cell_type": "code",
   "execution_count": null,
   "metadata": {},
   "outputs": [],
   "source": [
    "# [HoL] 画像情報の書き出し\n"
   ]
  },
  {
   "cell_type": "markdown",
   "metadata": {},
   "source": [
    "ひとつ前のカラムが正常に動いたら、このJupyter Notebookと同じディレクトリに画像ファイルができていることを確認してください。    \n",
    "    \n",
    "これからいろいろな画像加工を行いますが、都度ファイルに書き出して確認しながら作業するのはちょっと面倒ですよね。    \n",
    "そこで途中確認用の処理をご紹介します。"
   ]
  },
  {
   "cell_type": "markdown",
   "metadata": {},
   "source": [
    "### 加工画像の確認(.pyファイルでよくやるパターン)\n",
    "\n",
    "* 表示確認の設定    \n",
    "cv2.imshow(【ウィンドウ名】, 表示させるファイル)    \n",
    "    \n",
    "* 確認後の挙動指定(なにかしらのキーが押下されたら次の処理を動かす)    \n",
    "cv2.waitKey(0)    \n",
    "    \n",
    "* 今開いている確認ウィンドウをすべて閉じる    \n",
    "cv2.destroyAllWindows()"
   ]
  },
  {
   "cell_type": "code",
   "execution_count": null,
   "metadata": {},
   "outputs": [],
   "source": [
    "# 加工画像の確認(Jupyterでよくやるパターン)"
   ]
  },
  {
   "cell_type": "code",
   "execution_count": null,
   "metadata": {},
   "outputs": [],
   "source": [
    "import matplotlib.pyplot as plt\n",
    "\n",
    "# インライン表示\n",
    "%matplotlib inline"
   ]
  },
  {
   "cell_type": "code",
   "execution_count": null,
   "metadata": {},
   "outputs": [],
   "source": [
    "# [HoL] 画像のインライン表示"
   ]
  },
  {
   "cell_type": "markdown",
   "metadata": {},
   "source": [
    "どうでしょうか。先ほどJupyterの外から見た画像と色の出方が異なりますね。    \n",
    "これはOpenCVの標準的な色情報の持ち方とmatplotlibの持っている標準的な色情報の持ち方の違いが原因で引きおこる事象です    \n",
    "    \n",
    "通常matplotlibでは **R(赤), G(緑), B(青)** の順番で情報を保持していますが、    \n",
    "OpenCVでは **B(青), G(緑), 赤(R)** の順番でデータを保持しています。    \n",
    "    \n",
    "どちらもただの3つの数列であるため、なにも加工しなくても画像情報を読むことができますが、認識する数値と色の組み合わせが異なるため、このような表示のズレが発生します。    \n",
    "具体的には、赤色と青色が反転して表示されてしまいます。    \n",
    "    \n",
    "この表示色の変更については次の章で説明します。"
   ]
  },
  {
   "cell_type": "markdown",
   "metadata": {},
   "source": [
    "# 2. 色モデル変換\n",
    "この章では画像の簡単色加工を学びます。OpenCVには様々な色相パターンが事前に容易されており、ちょっと書くだけで様々なプリセット色相変換を楽しめます。    \n",
    "もちろんご自身で色モデルを作成しを指定・変換することも可能ですが、少々コードが長くなってしまうことや別途数値計算や各色味の調整に時間がかかってしまうため、今回のハンズオンでは作業しません。    \n",
    "\n",
    "うまく色相変換を利用して、おしゃれ画像加工に挑むことを目指して進めましょう。    \n",
    "    \n",
    "まずは先ほど正しく表示されなかった画像を正しく読み込ませるところから始めます。"
   ]
  },
  {
   "cell_type": "markdown",
   "metadata": {},
   "source": [
    "## cvtColor\n",
    "**cvtColor : 色モデル間変換を行う。変換する色モデルは定数として事前に容易されている。**    \n",
    "cvtColor(【読み込む画像】, 【色相環定数】)    \n",
    "    \n",
    "使える色モデル定数例    \n",
    "\n",
    "* COLOR_BGR2GRAY: BGR->グレースケール\n",
    "* COLOR_BGR2RGB: BGR->RGB ([RGB色相環](https://ja.wikipedia.org/wiki/RGB))\n",
    "* COLOR_BGR2HLS: BGR->HLS ([HLS色空間](https://ja.wikipedia.org/wiki/HLS%E8%89%B2%E7%A9%BA%E9%96%93))\n",
    "* COLOR_BGR2HSV: BGR->HSV ([HSV色空間](https://ja.wikipedia.org/wiki/HSV%E8%89%B2%E7%A9%BA%E9%96%93))\n",
    "* COLOR_BGR2YCrCb: BGR->YCrCb ([YUV色空間](https://ja.wikipedia.org/wiki/YUV))\n",
    "* COLOR_BGR2XYZ: BGR->XYZ ([CIE1931色空間](https://ja.wikipedia.org/wiki/CIE_1931_%E8%89%B2%E7%A9%BA%E9%96%93))\n",
    "\n",
    "ここではすべてBGR色モデルからの変換定数ばかりあげているが、もちろんHLSから、HSVからなどさまざまな変換定数が用意されている。\n"
   ]
  },
  {
   "cell_type": "code",
   "execution_count": null,
   "metadata": {},
   "outputs": [],
   "source": [
    "# [HoL] RGB形式での画像表示\n",
    "# rgb = \n",
    "\n",
    "plt.imshow(rgb)\n",
    "plt.show()"
   ]
  },
  {
   "cell_type": "markdown",
   "metadata": {},
   "source": [
    "ただしい色合いで表示されましたね。    \n",
    "他の色モデルでの表示もやってみましょう。"
   ]
  },
  {
   "cell_type": "code",
   "execution_count": null,
   "metadata": {},
   "outputs": [],
   "source": [
    "# [HoL] グレースケール\n",
    "# gray = \n",
    "\n",
    "# [HoL] 後程サンプル画像として使用したいので、ファイルに書き出しておきましょう。\n",
    "\n",
    "\n",
    "plt.imshow(cv2.cvtColor(gray, cv2.COLOR_BGR2RGB))\n",
    "plt.show()"
   ]
  },
  {
   "cell_type": "code",
   "execution_count": null,
   "metadata": {},
   "outputs": [],
   "source": [
    "# [HoL] 色空間での画像表示\n",
    "# change_color = \n",
    "\n",
    "plt.imshow(cv2.cvtColor(change_color, cv2.COLOR_BGR2RGB))\n",
    "plt.show()"
   ]
  },
  {
   "cell_type": "markdown",
   "metadata": {},
   "source": [
    "## applyColorMap\n",
    "**applyColorMap: OpenCV内にプリセットで用意されている色相モデル(カラーマップ)を使って色変換を行う**    \n",
    "applyColorMap(【読み込む画像】, 【カラーマップ定数】)    \n",
    "    \n",
    "使えるカラーマップ定数例    \n",
    "* COLORMAP_AUTUMN\n",
    "* COLORMAP_BONE\n",
    "* COLORMAP_CIVIDIS\n",
    "* COLORMAP_COOL\n",
    "* COLORMAP_HOT\n",
    "* COLORMAP_HSV\n",
    "* COLORMAP_INFERNO\n",
    "* COLORMAP_JET\n",
    "* COLORMAP_MAGMA\n",
    "* COLORMAP_OCEAN\n",
    "* COLORMAP_PARULA\n",
    "* COLORMAP_PINK\n",
    "* COLORMAP_PLASMA\n",
    "* COLORMAP_RAINBOW\n",
    "* COLORMAP_SPRING\n",
    "* COLORMAP_SUMMER\n",
    "* COLORMAP_TURBO\n",
    "* COLORMAP_TWILIGHT\n",
    "\n",
    "大体名前の通りのカラーマップになってるので色々試してみてください。"
   ]
  },
  {
   "cell_type": "code",
   "execution_count": null,
   "metadata": {},
   "outputs": [],
   "source": [
    "# 「HoL] カラーマップ変換\n",
    "#color_map = \n",
    "\n",
    "plt.imshow(cv2.cvtColor(color_map, cv2.COLOR_BGR2RGB))\n",
    "plt.show()"
   ]
  },
  {
   "cell_type": "markdown",
   "metadata": {},
   "source": [
    "# 3. その他画像処理\n",
    "色だけでなく、OpenCVのプリセット機能を使って画風を変換することもできます。    \n",
    "画風変換と色変換を色々組み合わせていくとおしゃれな画像加工ができるかもしれません。"
   ]
  },
  {
   "cell_type": "markdown",
   "metadata": {},
   "source": [
    "## 閾値処理(threshold)\n",
    "閾値処理とは、指定した閾値に合わせて色の振り分け・変換をする処理です。    \n",
    "これによりグラデーションは少なくなり、平たんで色の種類が少ない画像を作り出すことができます。    \n",
    "いわゆる二値化処理です。    \n",
    "\n",
    "**threshold: 閾値処理をおこなう**    \n",
    "threshold(【読み込む画像】, 【閾値】, 【利用する最大値】, 【変換定数】)    \n",
    "    \n",
    "変換定数    \n",
    "* cv2.THRESH_BINARY\n",
    "* cv2.THRESH_BINARY_INV\n",
    "* cv2.THRESH_TRUNC\n",
    "* cv2.THRESH_TOZERO\n",
    "* cv2.THRESH_TOZERO_INV\n",
    "\n",
    "変換定数イメージ    \n",
    "![変換定数イメージ](http://labs.eecs.tottori-u.ac.jp/sd/Member/oyamada/OpenCV/html/_images/threshold.jpg)"
   ]
  },
  {
   "cell_type": "code",
   "execution_count": null,
   "metadata": {},
   "outputs": [],
   "source": [
    "# グレースケールの表示(比較用)\n",
    "plt.imshow(gray)\n",
    "plt.show()\n",
    "\n",
    "# [HoL] グレースケールの二値化\n",
    "# r, mono = \n",
    "\n",
    "plt.imshow(mono)\n",
    "plt.show()"
   ]
  },
  {
   "cell_type": "markdown",
   "metadata": {},
   "source": [
    "明暗に対して二値化を行うため、カラー画像に対して同じ処理を行うと、また違った見え方になります。    "
   ]
  },
  {
   "cell_type": "code",
   "execution_count": null,
   "metadata": {},
   "outputs": [],
   "source": [
    "# カラー画像の表示(比較用)\n",
    "plt.imshow(cv2.cvtColor(target, cv2.COLOR_BGR2RGB))\n",
    "plt.show()\n",
    "\n",
    "# [HoL] カラー画像の二値化\n",
    "#r, paste_picture = \n",
    "\n",
    "plt.imshow(cv2.cvtColor(paste_picture, cv2.COLOR_BGR2RGB))\n",
    "plt.show()"
   ]
  },
  {
   "cell_type": "markdown",
   "metadata": {},
   "source": [
    "## エッジ検出(Canny)\n",
    "Canny法と呼ばれるエッジ検出のためのアルゴリズムを利用できます。    \n",
    "詳しい検出アルゴリズムついては下記を参照ください。    \n",
    "[http://labs.eecs.tottori-u.ac.jp/sd/Member/oyamada/OpenCV/html/py_tutorials/py_imgproc/py_canny/py_canny.html](http://labs.eecs.tottori-u.ac.jp/sd/Member/oyamada/OpenCV/html/py_tutorials/py_imgproc/py_canny/py_canny.html)    \n",
    "    \n",
    "**Canny:エッジ検出をおこなう**\n",
    "Canny(【読み込むファイル】, 【最小閾値】, 【最大閾値】, 【フィルタサイズ(デフォルト3)】)    \n",
    "    \n",
    "この呼び出しの引数である【最小閾値】【最大閾値】はCanny法検出内で行われるヒステリシス式閾値処理に利用され、【フィルタサイズ】は[Sobelフィルタ](http://www.mis.med.akita-u.ac.jp/~kata/image/sobelprew.html)によるエッジ強度処理に使用されます。    \n",
    "フィルタサイズはオプション引数です。    "
   ]
  },
  {
   "cell_type": "code",
   "execution_count": null,
   "metadata": {},
   "outputs": [],
   "source": [
    "# [HoL] エッジ検出\n",
    "# edge = \n",
    "\n",
    "plt.imshow(cv2.cvtColor(edge, cv2.COLOR_BGR2RGB))\n",
    "plt.show()"
   ]
  },
  {
   "cell_type": "markdown",
   "metadata": {},
   "source": [
    "## bit変換\n",
    "画像情報に論理演算施すことで、さまざまな効果を得ることができます。    \n",
    "    \n",
    "論理演算にはbitwiseな仲間たちを利用します。    \n",
    "* bitwise_and()\n",
    "* bitwise_not()\n",
    "* bitwise_or()\n",
    "* bitwise_xor()\n",
    "    \n",
    "論理演算イメージ    \n",
    "![論理演算イメージ](https://cvtech.cc/wp-content/uploads/2016/10/bitwise.png)    \n",
    "    \n",
    "今日はこの中からbitwise_notを利用したネガポジ反転と、bitwise_andを利用した色抽出をやってみます。"
   ]
  },
  {
   "cell_type": "markdown",
   "metadata": {},
   "source": [
    "**bitwise_not: その画像が持っている情報を反転する**    \n",
    "bitwise_not(【読み込む画像】)"
   ]
  },
  {
   "cell_type": "code",
   "execution_count": null,
   "metadata": {},
   "outputs": [],
   "source": [
    "# [HoL] ネガポジ反転\n",
    "# inversion = \n",
    "\n",
    "plt.imshow(cv2.cvtColor(inversion, cv2.COLOR_BGR2RGB))\n",
    "plt.show()"
   ]
  },
  {
   "cell_type": "markdown",
   "metadata": {},
   "source": [
    "**inRange: 有効な色相範囲を指定する**    \n",
    "inRange(【読み込むファイル】, 【有効色相最小値】, 【有効色相最大値】)    \n",
    "    \n",
    "**bitwise_and: 2つの画像のandのみを抽出する(2つの画像の一致する部分のみを抽出する)**    \n",
    "bitwise_and(【読み込むファイル1】, 【読み込むファイル2】, mask=【読み込みファイル2に使用したい色相範囲(デフォルト使用なし)】)    "
   ]
  },
  {
   "cell_type": "code",
   "execution_count": null,
   "metadata": {},
   "outputs": [],
   "source": [
    "import numpy as np"
   ]
  },
  {
   "cell_type": "code",
   "execution_count": null,
   "metadata": {},
   "outputs": [],
   "source": [
    "# [HoL] 抽出する色の範囲(BGR色相)\n",
    "# 今回は赤を抽出([0,0,10]-[15,15,255])\n",
    "# bgr_lower = \n",
    "# bgr_upper = \n",
    "\n",
    "# [HoL] 指定色範囲を抽出\n",
    "# color_range = \n",
    "# extraction = \n",
    "\n",
    "plt.imshow(cv2.cvtColor(extraction, cv2.COLOR_BGR2RGB))\n",
    "plt.show()"
   ]
  },
  {
   "cell_type": "markdown",
   "metadata": {},
   "source": [
    "## アルファブレンド(addWeighted)\n",
    "OpenCVでは2つ以上の画像を合成することももちろん可能です。    \n",
    "    \n",
    "今回は前の項目で作成した赤色抽出の画像とグレースケールの画像を利用してセレクトカラー加工に挑戦してみましょう。    \n",
    "    \n",
    "**addWeighted: 画像の合成を行う。それぞれの画像の透過度合いも設定することができる**    \n",
    "addWeighted(【読み込むファイル1】, 【ファイル1の透過度合い(0-1)】,【読み込むファイル2】, 【ファイル2の透過度合い(0-1)】)"
   ]
  },
  {
   "cell_type": "code",
   "execution_count": null,
   "metadata": {},
   "outputs": [],
   "source": [
    "# [HoL]\n",
    "gray_color = cv2.imread('gray.jpg')\n",
    "# composition = \n",
    "\n",
    "plt.imshow(cv2.cvtColor(composition, cv2.COLOR_BGR2RGB))\n",
    "plt.show()"
   ]
  },
  {
   "cell_type": "markdown",
   "metadata": {},
   "source": [
    "# これでshowcase1はおしまいです。\n",
    "showcase2に進みましょう～"
   ]
  },
  {
   "cell_type": "code",
   "execution_count": null,
   "metadata": {},
   "outputs": [],
   "source": []
  }
 ],
 "metadata": {
  "kernelspec": {
   "display_name": "Python 3",
   "language": "python",
   "name": "python3"
  },
  "language_info": {
   "codemirror_mode": {
    "name": "ipython",
    "version": 3
   },
   "file_extension": ".py",
   "mimetype": "text/x-python",
   "name": "python",
   "nbconvert_exporter": "python",
   "pygments_lexer": "ipython3",
   "version": "3.7.4"
  }
 },
 "nbformat": 4,
 "nbformat_minor": 2
}
